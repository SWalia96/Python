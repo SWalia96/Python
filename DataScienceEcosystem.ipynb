{
 "cells": [
  {
   "cell_type": "markdown",
   "id": "5acab952-11c0-46ea-83dd-eac5c4ef9030",
   "metadata": {},
   "source": [
    "<strong>Exercise 2: Create markdown cell with title of the notebook</strong>"
   ]
  },
  {
   "cell_type": "markdown",
   "id": "d7967fb1-e6dd-4372-9fa0-7b3882c58f7d",
   "metadata": {},
   "source": [
    "<H1>Data Science Tools and Ecosystem</H1>"
   ]
  },
  {
   "cell_type": "markdown",
   "id": "fbabb0df-bba3-4bb8-b149-2efef53126ca",
   "metadata": {},
   "source": [
    "<strong>Exercise 3 - Create a markdown cell for an introduction</strong>"
   ]
  },
  {
   "cell_type": "markdown",
   "id": "177eaf47-c8c0-41b0-9392-7d339b8f830f",
   "metadata": {},
   "source": [
    "<p>In this notebook, Data Science Tools and Ecosystem are summarized.</p>"
   ]
  },
  {
   "cell_type": "markdown",
   "id": "90f6a1f8-ca9f-4c02-b782-49442d8c405a",
   "metadata": {},
   "source": [
    "<strong>Exercise 10 - Insert a markdown cell to list Objectives</strong>"
   ]
  },
  {
   "cell_type": "markdown",
   "id": "94a5c3b8-6472-47b7-9781-54498004592c",
   "metadata": {},
   "source": [
    "<strong>Objectives</strong>\n",
    "<ul>\n",
    "    <li>List popular languages that Data Scientist use</li>\n",
    "    <li>List  commonly used libraries used by Data Scientists</li>\n",
    "    <li>Comment on Data Science tools</li>\n",
    "</ul>"
   ]
  },
  {
   "cell_type": "markdown",
   "id": "7583aab1-8ee1-4a84-8d02-664086f62fa0",
   "metadata": {},
   "source": [
    "<strong>Exercise 4 - Create a markdown cell to list data science languages</strong>"
   ]
  },
  {
   "cell_type": "markdown",
   "id": "e7fbff54-719e-4ace-8d28-b579cceb2fd3",
   "metadata": {},
   "source": [
    "Some of the popular languages that Data Scientist use are:\n",
    "<ol>\n",
    "    <li>Python</li>\n",
    "<li> Julia</li>\n",
    "<li> SQL</li>\n",
    "    <li>R</li>\n",
    "   \n",
    "</ol>"
   ]
  },
  {
   "cell_type": "markdown",
   "id": "9c9cd8d2-f917-4ae2-8a11-1c5083ec7ab7",
   "metadata": {},
   "source": [
    "<strong>Exercise 5 - Create a markdown cell to list data science libraries</strong>"
   ]
  },
  {
   "cell_type": "markdown",
   "id": "c9ff2027-847f-46b2-932b-19b2ca11e8b6",
   "metadata": {},
   "source": [
    "Some of the commonly used libraries used by Data Scientists include:\n",
    "<ol>\n",
    "    <li>NumPy</li>\n",
    "    <li> SciPy</li>\n",
    "    <li> Pandas</li>\n",
    "    <li>Matplotlib</li>\n",
    "    <li>Scrapy</li>\n",
    "</ol>"
   ]
  },
  {
   "cell_type": "markdown",
   "id": "2ba44629-feca-4a65-b376-0bc0ea525df9",
   "metadata": {},
   "source": [
    "<strong>Exercise 6 - Create a markdown cell with a table of Data Science tools</strong>"
   ]
  },
  {
   "cell_type": "markdown",
   "id": "07370eef-6ef8-4776-9c03-908284fd60b3",
   "metadata": {},
   "source": [
    "Data Science Tools:\n",
    "<table>\n",
    "    <thead>\n",
    "        <tr>\n",
    "<th>Data Science Tools </th>\n",
    "            </tr>\n",
    "        </thead>\n",
    "<tbody>\n",
    " <tr>\n",
    "    <td> ApacheSpark</td> </tr>\n",
    "    <tr><td>Amazon SageMaker Model Monitor</td></tr>\n",
    "    <tr><td>Tableau</td></tr>\n",
    "</tbody>\n",
    "</table>\n"
   ]
  },
  {
   "cell_type": "markdown",
   "id": "fb481956-b553-4f70-a030-6c67ff8630b3",
   "metadata": {},
   "source": [
    "<strong> <p>Exercise 7 - Create a markdown cell introducing arithmetic expression examples</p></strong>"
   ]
  },
  {
   "cell_type": "markdown",
   "id": "3bf1c38e-8e19-427c-8ded-05a583afc5c1",
   "metadata": {},
   "source": [
    "<H3>Below are a few examples of evaluating arithmetic expressions in Python.</H3>"
   ]
  },
  {
   "cell_type": "markdown",
   "id": "98a4b135-8111-47c5-84c3-d5648a10474c",
   "metadata": {},
   "source": [
    "<strong><p> Exercise 8 - Create a code cell to multiply and add numbers</p> </strong>"
   ]
  },
  {
   "cell_type": "code",
   "execution_count": 1,
   "id": "6a60b4b0-80d2-4bdc-aeab-1383c4f916f5",
   "metadata": {},
   "outputs": [
    {
     "data": {
      "text/plain": [
       "17"
      ]
     },
     "execution_count": 1,
     "metadata": {},
     "output_type": "execute_result"
    }
   ],
   "source": [
    "#This a simple arithmetic expression to mutiply then add integers\n",
    "(3*4)+5\n",
    "#Result: 17"
   ]
  },
  {
   "cell_type": "markdown",
   "id": "824b1273-8d2d-4a18-b598-267f94839700",
   "metadata": {},
   "source": [
    "<strong> Exercise 9 - Create a code cell to convert minutes to hours</strong>"
   ]
  },
  {
   "cell_type": "markdown",
   "id": "d7f992e3-558e-40b6-8528-874c16faa75b",
   "metadata": {},
   "source": [
    "<p>This will convert 200 minutes to hours by diving by 60</p>"
   ]
  },
  {
   "cell_type": "code",
   "execution_count": 2,
   "id": "68bfa074-7c3a-407b-8206-ca4f9f07f372",
   "metadata": {},
   "outputs": [
    {
     "name": "stdout",
     "output_type": "stream",
     "text": [
      "0days,3.3333333333333335hours,0mins\n"
     ]
    }
   ],
   "source": [
    "#This will convert 200 minutes to hours by diving by 60\n",
    "minute =0\n",
    "hours = 0\n",
    "days =0\n",
    "\n",
    "time= 200\n",
    "#days = time % (24*60)\n",
    "over_minutes = time % 1440\n",
    "hours = over_minutes/60\n",
    "\n",
    "print(str(days)+\"days,\" + str(hours)+\"hours,\"+str(minute)+\"mins\")\n",
    "#result: 3.33333333333 hours"
   ]
  },
  {
   "cell_type": "markdown",
   "id": "b2d40fab-9774-4935-a5ec-1b329ad9e9bc",
   "metadata": {},
   "source": [
    "<strong>Exercise 11 - Create a markdown cell to indicate the Author's name<strong>"
   ]
  },
  {
   "cell_type": "markdown",
   "id": "2cd4cf3e-a269-47f6-8f87-a291beeda72a",
   "metadata": {},
   "source": [
    "<H2>Author</H2> Simran Preet Walia"
   ]
  }
 ],
 "metadata": {
  "kernelspec": {
   "display_name": "Python 3 (ipykernel)",
   "language": "python",
   "name": "python3"
  },
  "language_info": {
   "codemirror_mode": {
    "name": "ipython",
    "version": 3
   },
   "file_extension": ".py",
   "mimetype": "text/x-python",
   "name": "python",
   "nbconvert_exporter": "python",
   "pygments_lexer": "ipython3",
   "version": "3.11.5"
  }
 },
 "nbformat": 4,
 "nbformat_minor": 5
}
